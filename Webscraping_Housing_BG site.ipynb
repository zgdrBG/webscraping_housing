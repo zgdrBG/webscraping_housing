{
 "cells": [
  {
   "cell_type": "code",
   "execution_count": 1,
   "id": "a974b0d2",
   "metadata": {},
   "outputs": [],
   "source": [
    "from selenium import webdriver\n",
    "from selenium.webdriver.common.keys import Keys\n",
    "from selenium.webdriver.support.wait import WebDriverWait\n",
    "from selenium.webdriver.support import expected_conditions as EC\n",
    "from selenium.webdriver.common.by import By\n",
    "from selenium.webdriver import ActionChains\n",
    "import time\n",
    "import pandas as pd\n",
    "import numpy as np\n",
    "import math\n",
    "\n",
    "start = time.time()\n",
    "\n",
    "path = r\"D:\\Zenor\\Python\\chromedriver_win32\\chromedriver.exe\""
   ]
  },
  {
   "cell_type": "markdown",
   "id": "255fb776",
   "metadata": {},
   "source": [
    "### Starting Webdriver"
   ]
  },
  {
   "cell_type": "code",
   "execution_count": 2,
   "id": "1bc92ccc",
   "metadata": {},
   "outputs": [],
   "source": [
    "options = webdriver.ChromeOptions()\n",
    "# options.add_argument(\"--start-minimized\")\n",
    "\n",
    "driver = webdriver.Chrome(path, options=options)\n",
    "# driver.minimize_window()\n",
    "\n",
    "driver.get(\"https://www.imot.bg/pcgi/imot.cgi\")"
   ]
  },
  {
   "cell_type": "markdown",
   "id": "51ac84d3",
   "metadata": {},
   "source": [
    "### Accepting Cookies and getting to search page"
   ]
  },
  {
   "cell_type": "code",
   "execution_count": 3,
   "id": "39bfbd0a",
   "metadata": {},
   "outputs": [],
   "source": [
    "accept_cookies = driver.find_element(By.CLASS_NAME, value=\"fc-button-label\")\n",
    "accept_cookies.click()\n",
    "\n",
    "select_sofia = driver.find_element(By.ID, value=\"BG-23\")\n",
    "select_sofia.click()\n",
    "\n",
    "sales = driver.find_element(By.CLASS_NAME, value=\"mapBtnProdajbi\")\n",
    "sales.click()"
   ]
  },
  {
   "cell_type": "code",
   "execution_count": 4,
   "id": "271bf06a",
   "metadata": {},
   "outputs": [],
   "source": [
    "wait = WebDriverWait(driver, 10)"
   ]
  },
  {
   "cell_type": "markdown",
   "id": "69e2fbc8",
   "metadata": {},
   "source": [
    "### Setting Apartment parameters"
   ]
  },
  {
   "cell_type": "code",
   "execution_count": 5,
   "id": "04103c65",
   "metadata": {},
   "outputs": [],
   "source": [
    "# Apartment parameters (rooms)\n",
    "rooms = [\"vi3\", # 3 rooms\n",
    "         \"vi4\", # 4 rooms\n",
    "         \"vi5\"] # multiple rooms\n",
    "\n",
    "for room in rooms:\n",
    "    room_element = driver.find_element(By.ID, value=room)\n",
    "    room_element.click()\n",
    "\n",
    "# Apartment parameters (size & price)\n",
    "search_params = [\"f26\",  # from_size in sqm\n",
    "                 #\"f27\",  # to_size in sqm\n",
    "                 \"f28\",  # from_total price\n",
    "                 \"f29\"]  # to_total price\n",
    "\n",
    "search_values = [90,     # from_size in sqm\n",
    "                 #96,     # to_size in sqm\n",
    "                 150000, # from_total price\n",
    "                 300000] # to_total price\n",
    "\n",
    "for p, v in zip(search_params, search_values):\n",
    "    params = driver.find_element(By.NAME, value=p)\n",
    "    params.send_keys(v)\n",
    "    \n",
    "# Apartment parameters (location)    \n",
    "neighbourhoods = [\"Зона Б-5\",\n",
    "                  \"Зона Б-5-3\",\n",
    "                  \"Център\",\n",
    "                  \"Медицинска академия\",\n",
    "                  \"Докторски паметник\", \n",
    "                  \"Оборище\",\n",
    "                  \"Лозенец\", \n",
    "                  \"Иван Вазов\",\n",
    "                  \"Яворов\"]\n",
    "\n",
    "for n in neighbourhoods:\n",
    "    neighbourhood = driver.find_element(By.XPATH, value=f'//option[@value=\"{n}\"]')\n",
    "    actions = ActionChains(driver)\n",
    "    actions.double_click(neighbourhood).perform()\n",
    "    \n",
    "# Apartment parameters (additional tickboxes)\n",
    "extra_params = [\"f62\", # construction type\n",
    "                \"fe1\"] # having images\n",
    "    \n",
    "for p in extra_params:\n",
    "    tick_element = driver.find_element(By.NAME, value=p)\n",
    "    tick_element.click()   \n",
    "    \n",
    "# Apartment parameters (year of construction)    \n",
    "# construction_year = driver.find_element(By.NAME, value=\"f52\")\n",
    "# construction_year.send_keys(\"2015\")"
   ]
  },
  {
   "cell_type": "markdown",
   "id": "8b2a6281",
   "metadata": {},
   "source": [
    "### Getting to Search results"
   ]
  },
  {
   "cell_type": "code",
   "execution_count": 6,
   "id": "1f347ac9",
   "metadata": {},
   "outputs": [],
   "source": [
    "search_button = driver.find_element(By.XPATH, value='//input[@type=\"button\"]')\n",
    "search_button.click()"
   ]
  },
  {
   "cell_type": "markdown",
   "id": "19834b97",
   "metadata": {},
   "source": [
    "### Getting first page results links"
   ]
  },
  {
   "cell_type": "code",
   "execution_count": 7,
   "id": "9e486706",
   "metadata": {},
   "outputs": [],
   "source": [
    "first_page_link = driver.current_url"
   ]
  },
  {
   "cell_type": "code",
   "execution_count": 8,
   "id": "041cf1ea",
   "metadata": {
    "scrolled": true
   },
   "outputs": [
    {
     "data": {
      "text/plain": [
       "'https://www.imot.bg/pcgi/imot.cgi?act=3&slink=9uya1a&f1=1'"
      ]
     },
     "execution_count": 8,
     "metadata": {},
     "output_type": "execute_result"
    }
   ],
   "source": [
    "first_page_link"
   ]
  },
  {
   "cell_type": "markdown",
   "id": "cd2c8efb",
   "metadata": {},
   "source": [
    "### Getting all result page links"
   ]
  },
  {
   "cell_type": "code",
   "execution_count": 9,
   "id": "ffe3753b",
   "metadata": {},
   "outputs": [
    {
     "data": {
      "text/plain": [
       "16"
      ]
     },
     "execution_count": 9,
     "metadata": {},
     "output_type": "execute_result"
    }
   ],
   "source": [
    "total_nbr_pages = int(driver.find_element(By.CLASS_NAME, \"pageNumbersInfo\").text[-2:])\n",
    "total_nbr_pages"
   ]
  },
  {
   "cell_type": "code",
   "execution_count": 10,
   "id": "ffe095d3",
   "metadata": {},
   "outputs": [],
   "source": [
    "pages = [first_page_link]"
   ]
  },
  {
   "cell_type": "code",
   "execution_count": 11,
   "id": "8f7c5013",
   "metadata": {},
   "outputs": [],
   "source": [
    "for i in range(2, total_nbr_pages + 1):\n",
    "    next_page_link = first_page_link[-1:].replace(\"1\", first_page_link[:-1] + f\"{i}\")\n",
    "    pages.append(next_page_link)"
   ]
  },
  {
   "cell_type": "code",
   "execution_count": 12,
   "id": "9cc41464",
   "metadata": {},
   "outputs": [
    {
     "data": {
      "text/plain": [
       "16"
      ]
     },
     "execution_count": 12,
     "metadata": {},
     "output_type": "execute_result"
    }
   ],
   "source": [
    "len(pages)"
   ]
  },
  {
   "cell_type": "markdown",
   "id": "920d1d02",
   "metadata": {},
   "source": [
    "### Creating lists for storing values"
   ]
  },
  {
   "cell_type": "code",
   "execution_count": 13,
   "id": "c250583c",
   "metadata": {},
   "outputs": [],
   "source": [
    "# Creating empty list lith links\n",
    "listings = []\n",
    "\n",
    "# Creating empty lists for storing values for the df\n",
    "ids = []\n",
    "prices = []\n",
    "sizes = []\n",
    "years_construction = []\n",
    "descriptions = []\n",
    "agencies = []\n",
    "locations = []\n",
    "titles = []"
   ]
  },
  {
   "cell_type": "markdown",
   "id": "79717c6e",
   "metadata": {},
   "source": [
    "### Opening each page and the listing links"
   ]
  },
  {
   "cell_type": "code",
   "execution_count": 14,
   "id": "c628ba68",
   "metadata": {
    "scrolled": true
   },
   "outputs": [
    {
     "name": "stdout",
     "output_type": "stream",
     "text": [
      "612\n"
     ]
    }
   ],
   "source": [
    "for page in pages:\n",
    "    driver.get(page)\n",
    "    time.sleep(3)\n",
    "    wait.until(EC.presence_of_element_located((By.CLASS_NAME, \"lnk1\")))\n",
    "    listing_links = driver.find_elements(By.CLASS_NAME, \"lnk1\")\n",
    "    \n",
    "    for i in listing_links:\n",
    "        link = i.get_attribute(\"href\")\n",
    "        listings.append(link)\n",
    "        \n",
    "print(len(listings))"
   ]
  },
  {
   "cell_type": "markdown",
   "id": "97bc55f4",
   "metadata": {},
   "source": [
    "### Opening listing and exctrating data"
   ]
  },
  {
   "cell_type": "code",
   "execution_count": 15,
   "id": "53676a77",
   "metadata": {
    "scrolled": false
   },
   "outputs": [],
   "source": [
    "for i in listings:\n",
    "    driver.get(i)\n",
    "    time.sleep(3)\n",
    "    \n",
    "    # getting listing ids\n",
    "    try:\n",
    "        listing_id_element = wait.until(EC.presence_of_element_located((By.CSS_SELECTOR, 'input[type=\"hidden\"][name=\"adv\"]')))\n",
    "        ids.append(listing_id_element.get_attribute(\"value\"))\n",
    "    except Exception:\n",
    "        ids.append(None)\n",
    "\n",
    "    # getting prices\n",
    "    try:\n",
    "        price_element = wait.until(EC.presence_of_element_located((By.ID, \"cena\")))\n",
    "        prices.append(price_element.text)\n",
    "    except Exception:\n",
    "        prices.append(None)\n",
    "    \n",
    "    # getting apartment size, year of construction\n",
    "    ad_params_element = wait.until(EC.presence_of_element_located((By.CLASS_NAME, \"adParams\")))\n",
    "    \n",
    "    try:\n",
    "        size_element = ad_params_element.find_element(By.XPATH, \"./div[contains(., 'Площ: ')]/strong\")\n",
    "        sizes.append(size_element.text)\n",
    "    except Exception:\n",
    "        sizes.append(None)\n",
    "    \n",
    "    try:\n",
    "        construction_year_element = ad_params_element.find_element(By.XPATH, \"./div[contains(., 'Строителство: ')]/strong\")\n",
    "        years_construction.append(construction_year_element.text)\n",
    "    except Exception:\n",
    "        years_construction.append(None)\n",
    "    \n",
    "    # getting description    \n",
    "    try:\n",
    "        description_element = wait.until(EC.presence_of_element_located((By.ID, \"description_div\")))\n",
    "        descriptions.append(description_element.text)\n",
    "    except Exception:\n",
    "        descriptions.append(None)\n",
    "    \n",
    "    # getting agency name\n",
    "    try:\n",
    "        agency_element = wait.until(EC.presence_of_element_located((By.TAG_NAME, \"b\")))\n",
    "        agencies.append(agency_element.text)\n",
    "    except Exception:\n",
    "        agencies.append(None)\n",
    "    \n",
    "    # getting location\n",
    "    try:\n",
    "        location_element = wait.until(EC.presence_of_element_located((By.CLASS_NAME, \"location\")))\n",
    "        locations.append(location_element.text)\n",
    "    except Exception:\n",
    "        locations.append(None)\n",
    "\n",
    "    # getting listing title\n",
    "    try:\n",
    "        title_element = wait.until(EC.presence_of_element_located((By.CLASS_NAME, \"advHeader\")))\n",
    "        titles.append(title_element.text)\n",
    "    except Exception:\n",
    "        titles.append(None)\n",
    "        \n",
    "driver.quit()"
   ]
  },
  {
   "cell_type": "markdown",
   "id": "c3a5b41d",
   "metadata": {},
   "source": [
    "### Creating a DataFrame"
   ]
  },
  {
   "cell_type": "code",
   "execution_count": 16,
   "id": "5f658dcd",
   "metadata": {
    "scrolled": false
   },
   "outputs": [
    {
     "data": {
      "text/html": [
       "<div>\n",
       "<style scoped>\n",
       "    .dataframe tbody tr th:only-of-type {\n",
       "        vertical-align: middle;\n",
       "    }\n",
       "\n",
       "    .dataframe tbody tr th {\n",
       "        vertical-align: top;\n",
       "    }\n",
       "\n",
       "    .dataframe thead th {\n",
       "        text-align: right;\n",
       "    }\n",
       "</style>\n",
       "<table border=\"1\" class=\"dataframe\">\n",
       "  <thead>\n",
       "    <tr style=\"text-align: right;\">\n",
       "      <th></th>\n",
       "      <th>id</th>\n",
       "      <th>price</th>\n",
       "      <th>size</th>\n",
       "      <th>construction_year</th>\n",
       "      <th>description</th>\n",
       "      <th>agency</th>\n",
       "      <th>location</th>\n",
       "      <th>title</th>\n",
       "      <th>link</th>\n",
       "      <th>date</th>\n",
       "    </tr>\n",
       "  </thead>\n",
       "  <tbody>\n",
       "    <tr>\n",
       "      <th>0</th>\n",
       "      <td>1c168303044134720</td>\n",
       "      <td>237 990 EUR</td>\n",
       "      <td>111 m2</td>\n",
       "      <td>Тухла, 2022 г.</td>\n",
       "      <td>ПРЕКРАСЕН ТРИСТАЕН АПАРТАМЕНТ! ТОП ЛОКАЦИЯ!\\n\\...</td>\n",
       "      <td>Брокер: Йорданка Петрова</td>\n",
       "      <td>град София, Зона Б-5</td>\n",
       "      <td>Продава 3-СТАЕН\\nград София, Зона Б-5\\nВиж карта</td>\n",
       "      <td>https://www.imot.bg/pcgi/imot.cgi?act=5&amp;adv=1c...</td>\n",
       "      <td>2023-10-15</td>\n",
       "    </tr>\n",
       "    <tr>\n",
       "      <th>1</th>\n",
       "      <td>1c169279714284408</td>\n",
       "      <td>283 000 EUR</td>\n",
       "      <td>125 m2</td>\n",
       "      <td>Тухла, 1998 г.</td>\n",
       "      <td>Комуникативно местоположение, ул. Димитър Хадж...</td>\n",
       "      <td>Брокер: Мариела Китанова</td>\n",
       "      <td>град София, Иван Вазов</td>\n",
       "      <td>Продава 3-СТАЕН\\nград София, Иван Вазов\\nВиж к...</td>\n",
       "      <td>https://www.imot.bg/pcgi/imot.cgi?act=5&amp;adv=1c...</td>\n",
       "      <td>2023-10-15</td>\n",
       "    </tr>\n",
       "    <tr>\n",
       "      <th>2</th>\n",
       "      <td>1c169714589935846</td>\n",
       "      <td>215 000 EUR</td>\n",
       "      <td>90 m2</td>\n",
       "      <td>Тухла, 1997 г.</td>\n",
       "      <td>10 минути пеш до НДК, 2-стаен преустроен на тр...</td>\n",
       "      <td>Брокер: Лилия Йорданова</td>\n",
       "      <td>град София, Лозенец</td>\n",
       "      <td>Продава 3-СТАЕН\\nград София, Лозенец\\nВиж карта</td>\n",
       "      <td>https://www.imot.bg/pcgi/imot.cgi?act=5&amp;adv=1c...</td>\n",
       "      <td>2023-10-15</td>\n",
       "    </tr>\n",
       "    <tr>\n",
       "      <th>3</th>\n",
       "      <td>1c169702525323979</td>\n",
       "      <td>215 000 EUR</td>\n",
       "      <td>90 m2</td>\n",
       "      <td>Тухла, 1995 г.</td>\n",
       "      <td>ТОП ОФЕРТА !!! Продаваме прекрасен тристаен ап...</td>\n",
       "      <td>Агенция: НАЙС ХОУМ</td>\n",
       "      <td>град София, Лозенец, ул. Крум Попов</td>\n",
       "      <td>Продава 3-СТАЕН\\nград София, Лозенец, ул. Крум...</td>\n",
       "      <td>https://www.imot.bg/pcgi/imot.cgi?act=5&amp;adv=1c...</td>\n",
       "      <td>2023-10-15</td>\n",
       "    </tr>\n",
       "    <tr>\n",
       "      <th>4</th>\n",
       "      <td>1c169506678922472</td>\n",
       "      <td>246 000 EUR</td>\n",
       "      <td>90 m2</td>\n",
       "      <td>Тухла, 1980 г.</td>\n",
       "      <td>Панорамен апартамент до водната кула. Жилището...</td>\n",
       "      <td>Агенция: АВЕКС</td>\n",
       "      <td>град София, Лозенец</td>\n",
       "      <td>Продава 3-СТАЕН\\nград София, Лозенец\\nВиж карта</td>\n",
       "      <td>https://www.imot.bg/pcgi/imot.cgi?act=5&amp;adv=1c...</td>\n",
       "      <td>2023-10-15</td>\n",
       "    </tr>\n",
       "  </tbody>\n",
       "</table>\n",
       "</div>"
      ],
      "text/plain": [
       "                  id        price    size construction_year  \\\n",
       "0  1c168303044134720  237 990 EUR  111 m2    Тухла, 2022 г.   \n",
       "1  1c169279714284408  283 000 EUR  125 m2    Тухла, 1998 г.   \n",
       "2  1c169714589935846  215 000 EUR   90 m2    Тухла, 1997 г.   \n",
       "3  1c169702525323979  215 000 EUR   90 m2    Тухла, 1995 г.   \n",
       "4  1c169506678922472  246 000 EUR   90 m2    Тухла, 1980 г.   \n",
       "\n",
       "                                         description  \\\n",
       "0  ПРЕКРАСЕН ТРИСТАЕН АПАРТАМЕНТ! ТОП ЛОКАЦИЯ!\\n\\...   \n",
       "1  Комуникативно местоположение, ул. Димитър Хадж...   \n",
       "2  10 минути пеш до НДК, 2-стаен преустроен на тр...   \n",
       "3  ТОП ОФЕРТА !!! Продаваме прекрасен тристаен ап...   \n",
       "4  Панорамен апартамент до водната кула. Жилището...   \n",
       "\n",
       "                     agency                             location  \\\n",
       "0  Брокер: Йорданка Петрова                 град София, Зона Б-5   \n",
       "1  Брокер: Мариела Китанова               град София, Иван Вазов   \n",
       "2   Брокер: Лилия Йорданова                  град София, Лозенец   \n",
       "3        Агенция: НАЙС ХОУМ  град София, Лозенец, ул. Крум Попов   \n",
       "4            Агенция: АВЕКС                  град София, Лозенец   \n",
       "\n",
       "                                               title  \\\n",
       "0   Продава 3-СТАЕН\\nград София, Зона Б-5\\nВиж карта   \n",
       "1  Продава 3-СТАЕН\\nград София, Иван Вазов\\nВиж к...   \n",
       "2    Продава 3-СТАЕН\\nград София, Лозенец\\nВиж карта   \n",
       "3  Продава 3-СТАЕН\\nград София, Лозенец, ул. Крум...   \n",
       "4    Продава 3-СТАЕН\\nград София, Лозенец\\nВиж карта   \n",
       "\n",
       "                                                link        date  \n",
       "0  https://www.imot.bg/pcgi/imot.cgi?act=5&adv=1c...  2023-10-15  \n",
       "1  https://www.imot.bg/pcgi/imot.cgi?act=5&adv=1c...  2023-10-15  \n",
       "2  https://www.imot.bg/pcgi/imot.cgi?act=5&adv=1c...  2023-10-15  \n",
       "3  https://www.imot.bg/pcgi/imot.cgi?act=5&adv=1c...  2023-10-15  \n",
       "4  https://www.imot.bg/pcgi/imot.cgi?act=5&adv=1c...  2023-10-15  "
      ]
     },
     "execution_count": 16,
     "metadata": {},
     "output_type": "execute_result"
    }
   ],
   "source": [
    "data = {\n",
    "        'id':                 [i for i in ids],\n",
    "        'price':              [i for i in prices],\n",
    "        'size':               [i for i in sizes],\n",
    "        'construction_year':  [i for i in years_construction],\n",
    "        'description':        [i for i in descriptions],\n",
    "        'agency':             [i for i in agencies],\n",
    "        'location':           [i for i in locations],\n",
    "        'title':              [i for i in titles],\n",
    "        'link':               [i for i in listings],\n",
    "        'date':               [pd.Timestamp.now().date() for i in titles]\n",
    "}\n",
    "\n",
    "df = pd.DataFrame(data)       \n",
    "\n",
    "df.head()"
   ]
  },
  {
   "cell_type": "markdown",
   "id": "6f2931ca",
   "metadata": {},
   "source": [
    "### Editing the DataFrame"
   ]
  },
  {
   "cell_type": "markdown",
   "id": "4d81d9f0",
   "metadata": {},
   "source": [
    "###### Price"
   ]
  },
  {
   "cell_type": "code",
   "execution_count": 17,
   "id": "a2ca99b2",
   "metadata": {},
   "outputs": [],
   "source": [
    "df['price'] = df['price'].str.replace(' EUR', '')\n",
    "df['price'] = df['price'].str.replace(' ', '')\n",
    "df['price'] = df['price'].astype('int32')"
   ]
  },
  {
   "cell_type": "code",
   "execution_count": 18,
   "id": "6c1d27bc",
   "metadata": {
    "scrolled": true
   },
   "outputs": [
    {
     "data": {
      "text/plain": [
       "0    237990\n",
       "1    283000\n",
       "2    215000\n",
       "Name: price, dtype: int32"
      ]
     },
     "execution_count": 18,
     "metadata": {},
     "output_type": "execute_result"
    }
   ],
   "source": [
    "df['price'][:3]"
   ]
  },
  {
   "cell_type": "markdown",
   "id": "43015797",
   "metadata": {},
   "source": [
    "###### Size"
   ]
  },
  {
   "cell_type": "code",
   "execution_count": 19,
   "id": "dffd5be3",
   "metadata": {},
   "outputs": [],
   "source": [
    "df['size'] = df['size'].str.replace(' m2', '')\n",
    "df['size'] = df['size'].astype('int16')"
   ]
  },
  {
   "cell_type": "code",
   "execution_count": 20,
   "id": "e1fadd17",
   "metadata": {},
   "outputs": [
    {
     "data": {
      "text/plain": [
       "0    111\n",
       "1    125\n",
       "2     90\n",
       "Name: size, dtype: int16"
      ]
     },
     "execution_count": 20,
     "metadata": {},
     "output_type": "execute_result"
    }
   ],
   "source": [
    "df['size'][:3]"
   ]
  },
  {
   "cell_type": "markdown",
   "id": "1f7ce627",
   "metadata": {},
   "source": [
    "###### Constructed"
   ]
  },
  {
   "cell_type": "code",
   "execution_count": 21,
   "id": "37b77f1b",
   "metadata": {},
   "outputs": [],
   "source": [
    "df['construction_year'] = df['construction_year'].str.replace('^Тухла$', '0', regex=True)\n",
    "df['construction_year'] = df['construction_year'].str.extract(r\"(\\d{4}) г\") #.astype('int16') "
   ]
  },
  {
   "cell_type": "code",
   "execution_count": 22,
   "id": "693a1efa",
   "metadata": {
    "scrolled": true
   },
   "outputs": [
    {
     "data": {
      "text/plain": [
       "0    2022\n",
       "1    1998\n",
       "2    1997\n",
       "Name: construction_year, dtype: object"
      ]
     },
     "execution_count": 22,
     "metadata": {},
     "output_type": "execute_result"
    }
   ],
   "source": [
    "df['construction_year'][:3]"
   ]
  },
  {
   "cell_type": "markdown",
   "id": "28974e5c",
   "metadata": {},
   "source": [
    "###### Agency"
   ]
  },
  {
   "cell_type": "code",
   "execution_count": 23,
   "id": "4c30ad6d",
   "metadata": {},
   "outputs": [],
   "source": [
    "df['agency'] = df['agency'].str.split(\": \", n=1, expand=True)[1]"
   ]
  },
  {
   "cell_type": "code",
   "execution_count": 24,
   "id": "9cc069fb",
   "metadata": {},
   "outputs": [
    {
     "data": {
      "text/plain": [
       "0    Йорданка Петрова\n",
       "1    Мариела Китанова\n",
       "2     Лилия Йорданова\n",
       "Name: agency, dtype: object"
      ]
     },
     "execution_count": 24,
     "metadata": {},
     "output_type": "execute_result"
    }
   ],
   "source": [
    "df['agency'][:3]"
   ]
  },
  {
   "cell_type": "markdown",
   "id": "9babd026",
   "metadata": {},
   "source": [
    "###### Location"
   ]
  },
  {
   "cell_type": "code",
   "execution_count": 25,
   "id": "3cccf054",
   "metadata": {},
   "outputs": [],
   "source": [
    "df['location'] = df['location'].str.split(\", \", n=1, expand=True)[1]"
   ]
  },
  {
   "cell_type": "code",
   "execution_count": 26,
   "id": "9960b387",
   "metadata": {},
   "outputs": [
    {
     "data": {
      "text/plain": [
       "0      Зона Б-5\n",
       "1    Иван Вазов\n",
       "2       Лозенец\n",
       "Name: location, dtype: object"
      ]
     },
     "execution_count": 26,
     "metadata": {},
     "output_type": "execute_result"
    }
   ],
   "source": [
    "df['location'][:3]"
   ]
  },
  {
   "cell_type": "markdown",
   "id": "4eeed101",
   "metadata": {},
   "source": [
    "###### Type of apartment (nbr of rooms)"
   ]
  },
  {
   "cell_type": "code",
   "execution_count": 27,
   "id": "318f1dca",
   "metadata": {},
   "outputs": [],
   "source": [
    "df['nbr_rooms'] = df['title'].str.split(\"\\n\", n=1, expand=True)[0]\n",
    "df['nbr_rooms'] = df['nbr_rooms'].str.replace('Продава ', '')"
   ]
  },
  {
   "cell_type": "code",
   "execution_count": 28,
   "id": "e8e93e3a",
   "metadata": {
    "scrolled": true
   },
   "outputs": [
    {
     "data": {
      "text/plain": [
       "0    3-СТАЕН\n",
       "1    3-СТАЕН\n",
       "2    3-СТАЕН\n",
       "Name: nbr_rooms, dtype: object"
      ]
     },
     "execution_count": 28,
     "metadata": {},
     "output_type": "execute_result"
    }
   ],
   "source": [
    "df['nbr_rooms'][:3]"
   ]
  },
  {
   "cell_type": "markdown",
   "id": "c0d848b2",
   "metadata": {},
   "source": [
    "###### Date of scraping"
   ]
  },
  {
   "cell_type": "code",
   "execution_count": 29,
   "id": "913a6c02",
   "metadata": {},
   "outputs": [],
   "source": [
    "date_scraped = df['date'].groupby(by=df['date']).max().iloc[0]"
   ]
  },
  {
   "cell_type": "code",
   "execution_count": 30,
   "id": "f9996fec",
   "metadata": {},
   "outputs": [
    {
     "data": {
      "text/plain": [
       "'D:\\\\Zenor\\\\Python\\\\Webscraping_Housing\\\\2023-10-15_imot.bg.xlsx'"
      ]
     },
     "execution_count": 30,
     "metadata": {},
     "output_type": "execute_result"
    }
   ],
   "source": [
    "file_name = f\"{date_scraped}\" + \"_imot.bg.xlsx\"\n",
    "file_path = \"D:\\\\Zenor\\\\Python\\\\Webscraping_Housing\\\\\" + file_name\n",
    "file_path"
   ]
  },
  {
   "cell_type": "code",
   "execution_count": 31,
   "id": "25e443f5",
   "metadata": {},
   "outputs": [],
   "source": [
    "df.to_excel(file_path, index=False)"
   ]
  },
  {
   "cell_type": "code",
   "execution_count": 32,
   "id": "de45dc57",
   "metadata": {},
   "outputs": [
    {
     "data": {
      "text/html": [
       "<div>\n",
       "<style scoped>\n",
       "    .dataframe tbody tr th:only-of-type {\n",
       "        vertical-align: middle;\n",
       "    }\n",
       "\n",
       "    .dataframe tbody tr th {\n",
       "        vertical-align: top;\n",
       "    }\n",
       "\n",
       "    .dataframe thead th {\n",
       "        text-align: right;\n",
       "    }\n",
       "</style>\n",
       "<table border=\"1\" class=\"dataframe\">\n",
       "  <thead>\n",
       "    <tr style=\"text-align: right;\">\n",
       "      <th></th>\n",
       "      <th>id</th>\n",
       "      <th>price</th>\n",
       "      <th>size</th>\n",
       "      <th>construction_year</th>\n",
       "      <th>description</th>\n",
       "      <th>agency</th>\n",
       "      <th>location</th>\n",
       "      <th>title</th>\n",
       "      <th>link</th>\n",
       "      <th>date</th>\n",
       "      <th>nbr_rooms</th>\n",
       "    </tr>\n",
       "  </thead>\n",
       "  <tbody>\n",
       "    <tr>\n",
       "      <th>0</th>\n",
       "      <td>1c168303044134720</td>\n",
       "      <td>237990</td>\n",
       "      <td>111</td>\n",
       "      <td>2022</td>\n",
       "      <td>ПРЕКРАСЕН ТРИСТАЕН АПАРТАМЕНТ! ТОП ЛОКАЦИЯ!\\n\\...</td>\n",
       "      <td>Йорданка Петрова</td>\n",
       "      <td>Зона Б-5</td>\n",
       "      <td>Продава 3-СТАЕН\\nград София, Зона Б-5\\nВиж карта</td>\n",
       "      <td>https://www.imot.bg/pcgi/imot.cgi?act=5&amp;adv=1c...</td>\n",
       "      <td>2023-10-15</td>\n",
       "      <td>3-СТАЕН</td>\n",
       "    </tr>\n",
       "    <tr>\n",
       "      <th>1</th>\n",
       "      <td>1c169279714284408</td>\n",
       "      <td>283000</td>\n",
       "      <td>125</td>\n",
       "      <td>1998</td>\n",
       "      <td>Комуникативно местоположение, ул. Димитър Хадж...</td>\n",
       "      <td>Мариела Китанова</td>\n",
       "      <td>Иван Вазов</td>\n",
       "      <td>Продава 3-СТАЕН\\nград София, Иван Вазов\\nВиж к...</td>\n",
       "      <td>https://www.imot.bg/pcgi/imot.cgi?act=5&amp;adv=1c...</td>\n",
       "      <td>2023-10-15</td>\n",
       "      <td>3-СТАЕН</td>\n",
       "    </tr>\n",
       "    <tr>\n",
       "      <th>2</th>\n",
       "      <td>1c169714589935846</td>\n",
       "      <td>215000</td>\n",
       "      <td>90</td>\n",
       "      <td>1997</td>\n",
       "      <td>10 минути пеш до НДК, 2-стаен преустроен на тр...</td>\n",
       "      <td>Лилия Йорданова</td>\n",
       "      <td>Лозенец</td>\n",
       "      <td>Продава 3-СТАЕН\\nград София, Лозенец\\nВиж карта</td>\n",
       "      <td>https://www.imot.bg/pcgi/imot.cgi?act=5&amp;adv=1c...</td>\n",
       "      <td>2023-10-15</td>\n",
       "      <td>3-СТАЕН</td>\n",
       "    </tr>\n",
       "    <tr>\n",
       "      <th>3</th>\n",
       "      <td>1c169702525323979</td>\n",
       "      <td>215000</td>\n",
       "      <td>90</td>\n",
       "      <td>1995</td>\n",
       "      <td>ТОП ОФЕРТА !!! Продаваме прекрасен тристаен ап...</td>\n",
       "      <td>НАЙС ХОУМ</td>\n",
       "      <td>Лозенец, ул. Крум Попов</td>\n",
       "      <td>Продава 3-СТАЕН\\nград София, Лозенец, ул. Крум...</td>\n",
       "      <td>https://www.imot.bg/pcgi/imot.cgi?act=5&amp;adv=1c...</td>\n",
       "      <td>2023-10-15</td>\n",
       "      <td>3-СТАЕН</td>\n",
       "    </tr>\n",
       "    <tr>\n",
       "      <th>4</th>\n",
       "      <td>1c169506678922472</td>\n",
       "      <td>246000</td>\n",
       "      <td>90</td>\n",
       "      <td>1980</td>\n",
       "      <td>Панорамен апартамент до водната кула. Жилището...</td>\n",
       "      <td>АВЕКС</td>\n",
       "      <td>Лозенец</td>\n",
       "      <td>Продава 3-СТАЕН\\nград София, Лозенец\\nВиж карта</td>\n",
       "      <td>https://www.imot.bg/pcgi/imot.cgi?act=5&amp;adv=1c...</td>\n",
       "      <td>2023-10-15</td>\n",
       "      <td>3-СТАЕН</td>\n",
       "    </tr>\n",
       "  </tbody>\n",
       "</table>\n",
       "</div>"
      ],
      "text/plain": [
       "                  id   price  size construction_year  \\\n",
       "0  1c168303044134720  237990   111              2022   \n",
       "1  1c169279714284408  283000   125              1998   \n",
       "2  1c169714589935846  215000    90              1997   \n",
       "3  1c169702525323979  215000    90              1995   \n",
       "4  1c169506678922472  246000    90              1980   \n",
       "\n",
       "                                         description            agency  \\\n",
       "0  ПРЕКРАСЕН ТРИСТАЕН АПАРТАМЕНТ! ТОП ЛОКАЦИЯ!\\n\\...  Йорданка Петрова   \n",
       "1  Комуникативно местоположение, ул. Димитър Хадж...  Мариела Китанова   \n",
       "2  10 минути пеш до НДК, 2-стаен преустроен на тр...   Лилия Йорданова   \n",
       "3  ТОП ОФЕРТА !!! Продаваме прекрасен тристаен ап...         НАЙС ХОУМ   \n",
       "4  Панорамен апартамент до водната кула. Жилището...             АВЕКС   \n",
       "\n",
       "                  location                                              title  \\\n",
       "0                 Зона Б-5   Продава 3-СТАЕН\\nград София, Зона Б-5\\nВиж карта   \n",
       "1               Иван Вазов  Продава 3-СТАЕН\\nград София, Иван Вазов\\nВиж к...   \n",
       "2                  Лозенец    Продава 3-СТАЕН\\nград София, Лозенец\\nВиж карта   \n",
       "3  Лозенец, ул. Крум Попов  Продава 3-СТАЕН\\nград София, Лозенец, ул. Крум...   \n",
       "4                  Лозенец    Продава 3-СТАЕН\\nград София, Лозенец\\nВиж карта   \n",
       "\n",
       "                                                link        date nbr_rooms  \n",
       "0  https://www.imot.bg/pcgi/imot.cgi?act=5&adv=1c...  2023-10-15   3-СТАЕН  \n",
       "1  https://www.imot.bg/pcgi/imot.cgi?act=5&adv=1c...  2023-10-15   3-СТАЕН  \n",
       "2  https://www.imot.bg/pcgi/imot.cgi?act=5&adv=1c...  2023-10-15   3-СТАЕН  \n",
       "3  https://www.imot.bg/pcgi/imot.cgi?act=5&adv=1c...  2023-10-15   3-СТАЕН  \n",
       "4  https://www.imot.bg/pcgi/imot.cgi?act=5&adv=1c...  2023-10-15   3-СТАЕН  "
      ]
     },
     "execution_count": 32,
     "metadata": {},
     "output_type": "execute_result"
    }
   ],
   "source": [
    "df.head()"
   ]
  },
  {
   "cell_type": "code",
   "execution_count": 33,
   "id": "25a2f51e",
   "metadata": {
    "scrolled": true
   },
   "outputs": [
    {
     "name": "stdout",
     "output_type": "stream",
     "text": [
      "<class 'pandas.core.frame.DataFrame'>\n",
      "RangeIndex: 612 entries, 0 to 611\n",
      "Data columns (total 11 columns):\n",
      " #   Column             Non-Null Count  Dtype \n",
      "---  ------             --------------  ----- \n",
      " 0   id                 612 non-null    object\n",
      " 1   price              612 non-null    int32 \n",
      " 2   size               612 non-null    int16 \n",
      " 3   construction_year  509 non-null    object\n",
      " 4   description        610 non-null    object\n",
      " 5   agency             605 non-null    object\n",
      " 6   location           612 non-null    object\n",
      " 7   title              612 non-null    object\n",
      " 8   link               612 non-null    object\n",
      " 9   date               612 non-null    object\n",
      " 10  nbr_rooms          612 non-null    object\n",
      "dtypes: int16(1), int32(1), object(9)\n",
      "memory usage: 1.5 MB\n"
     ]
    }
   ],
   "source": [
    "df.info(memory_usage='deep')"
   ]
  },
  {
   "cell_type": "code",
   "execution_count": 34,
   "id": "13296a77",
   "metadata": {},
   "outputs": [],
   "source": [
    "driver.quit()"
   ]
  },
  {
   "cell_type": "markdown",
   "id": "121e2e7c",
   "metadata": {},
   "source": [
    "### Check for errors in data (if result = 1, ok to proceed)"
   ]
  },
  {
   "cell_type": "code",
   "execution_count": 35,
   "id": "8a7e1bdc",
   "metadata": {},
   "outputs": [
    {
     "data": {
      "text/plain": [
       "1.0"
      ]
     },
     "execution_count": 35,
     "metadata": {},
     "output_type": "execute_result"
    }
   ],
   "source": [
    "pd.Series(listings).nunique() / pd.Series(listings).count()"
   ]
  },
  {
   "cell_type": "markdown",
   "id": "379ce417",
   "metadata": {},
   "source": [
    "###  Time elapsed"
   ]
  },
  {
   "cell_type": "code",
   "execution_count": 36,
   "id": "91cd2c11",
   "metadata": {},
   "outputs": [],
   "source": [
    "end = time.time()"
   ]
  },
  {
   "cell_type": "code",
   "execution_count": 37,
   "id": "fd4f53d3",
   "metadata": {
    "scrolled": true
   },
   "outputs": [
    {
     "name": "stdout",
     "output_type": "stream",
     "text": [
      "39.67\n"
     ]
    }
   ],
   "source": [
    "print(\n",
    "    round((end - start) / 60, 2),\n",
    ")"
   ]
  }
 ],
 "metadata": {
  "kernelspec": {
   "display_name": "Python 3 (ipykernel)",
   "language": "python",
   "name": "python3"
  },
  "language_info": {
   "codemirror_mode": {
    "name": "ipython",
    "version": 3
   },
   "file_extension": ".py",
   "mimetype": "text/x-python",
   "name": "python",
   "nbconvert_exporter": "python",
   "pygments_lexer": "ipython3",
   "version": "3.9.12"
  }
 },
 "nbformat": 4,
 "nbformat_minor": 5
}
